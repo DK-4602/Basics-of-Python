{
 "cells": [
  {
   "cell_type": "code",
   "execution_count": 4,
   "id": "87ff6a2d",
   "metadata": {},
   "outputs": [
    {
     "name": "stdout",
     "output_type": "stream",
     "text": [
      "Enter the number you want to check:25\n",
      "The number is Positive.\n"
     ]
    }
   ],
   "source": [
    "## Write a Python program to check if a number is positive, negative or zero.\n",
    "\n",
    "num=float(input(\"Enter the number you want to check:\"))\n",
    "if num>0.0:\n",
    "  print(\"The number is Positive.\")\n",
    "    \n",
    "elif num==0.0:\n",
    "  print(\"The number is Zero.\")\n",
    "    \n",
    "else:\n",
    "  print(\"The number is Negative.\")"
   ]
  },
  {
   "cell_type": "code",
   "execution_count": null,
   "id": "9cb69512",
   "metadata": {},
   "outputs": [],
   "source": []
  }
 ],
 "metadata": {
  "kernelspec": {
   "display_name": "Python 3 (ipykernel)",
   "language": "python",
   "name": "python3"
  },
  "language_info": {
   "codemirror_mode": {
    "name": "ipython",
    "version": 3
   },
   "file_extension": ".py",
   "mimetype": "text/x-python",
   "name": "python",
   "nbconvert_exporter": "python",
   "pygments_lexer": "ipython3",
   "version": "3.9.12"
  }
 },
 "nbformat": 4,
 "nbformat_minor": 5
}
